{
 "cells": [
  {
   "cell_type": "code",
   "execution_count": 1,
   "metadata": {
    "scrolled": true
   },
   "outputs": [
    {
     "data": {
      "text/plain": [
       "\"omlvgpokxfnctqyersabjwzizp\\nomlvtdhxxflctqyersabjwziup\\nomlvgdakxfnctqyersabzmziup\\nomlvgdhkxfnchqyersarjwsiup\\nomlvgdnkxfnctqyersabhwziuq\\nomvlgdhkxfnctqyersajjwziup\\nfmlvgdbkxfnctqyersabjwzqup\\nomlvcdhexfnctqyersibjwziup\\nomlvgdhkxfnctqyersoyjnziup\\nomdbgdhpxfnctqyersabjwziup\\nomlvgdbkxfnctiyersabjwziwp\\nomlogdhkxfncpqyersabjfziup\\nomlvgdhkxfncxayersabwwziup\\nomlvgdhkxfgctqyepsabjnziup\\nomlvzdhkxfnctqyerxabjwoiup\\norlvtdhoxfnctqyersabjwziup\\nomgvgdhkxfnctqyetsarjwziup\\nomlvgdhkxunctcqersabjwziup\\nomlvgdhkxfnctqyertakjwziun\\nomlvhdhkxfhetqyersabjwziup\\nomlvjdhkxfnctqyersabjtzirp\\nomsvgdhkifnctqyeryabjwziup\\nohlvgdhkxfncteyersabtwziup\\nomlvgdhkxjqctqyerkabjwziup\\nomljgdhkxfncxqiersabjwziup\\nomlvgdhkxvnctqyetscbjwziup\\nomlvgdhxxfnctqykrsabjwziui\\nomlbgdhkxfnetqyersabjwliup\\nomlvgvhkxfnctqyerjabjwzwup\\nwmlvgdhkxfnctqyyrsabjwziuc\\nomlvgdhkufnctqxersabjwpiup\\nomlvgdtkxfnctqyercvbjwziup\\nomtvgdhkxfnctqygrsmbjwziup\\nomlvgdbkxfnctqyersagjwzrup\\nomlvgdpksfnctqyorsabjwziup\\nomlvgdlkxfnctqyerhaajwziup\\nomlvgdhkxfnctqyersabjwkiqh\\nomlvgdykxfnctqdersdbjwziup\\nomligdhklfnctpyersabjwziup\\nomlvzdhkxfnctryersabjwziap\\nnmlvgdqkxfnctqyemsabjwziup\\nomlvgdhkxoncqqyersabjyziup\\notlvgdhkxfnctqyersabjwzzhp\\nomlvgdhvxfnctqyirsabjwziue\\nomlvgohkxfnctqjersabjwzeup\\nomlngdhkxfnytqyersabjwsiup\\ngmlvgbhkxfnctqyersabjwziyp\\nnmlvgxhkxfnctqyxrsabjwziup\\nomlvwdhkufnctqyerfabjwziup\\nomlvqdhkxfnctqyersabfmziup\\nomlvgdhkxfnctqlerscbjeziup\\nomlvgdhkxfncxqyerjabjgziup\\nomlvgdhkxwnctqyersvbjwriup\\nozlvgdhkxfnctqyersabjjziuj\\nomlvguhkxfnctqyersabjwznut\\nozlvwdhkxfactqyersabjwziup\\noplvgdhkxfnctqyersakjwiiup\\nomlkgbhkxfnctqyetsabjwziup\\noukvgdhkxfnctqyerslbjwziup\\nomllgwhkxfnctqyersasjwziup\\nomlvgdqkvfnctqyjrsabjwziup\\nomlvguhkxfnctqyepsakjwziup\\noblvgdhkxfnctqyersibjwciup\\nomlvgdhkxfpetqyersnbjwziup\\nomlvgdhkxfnctqyersabgwpmup\\nohlvgdhkxfnctqyersgbjwdiup\\nomlvgkhkxfnctqyarsabjwziuj\\nomtvgdhkxfnctqoersabjwzfup\\nomlvgdhkxfncbqyersafjwzkup\\namlvgdhkmfnctqyorsabjwziup\\nomlvndhkxfnctbyersagjwziup\\noslvgdhkxfactqyersabjwziip\\nomlvgdhkxfnrtqyerumbjwziup\\nomjvgdhaxfnctqyersajjwziup\\nomlvgdhkxfyctqyersabjvziuf\\nomlvgdhkxfgctqyervabjwzuup\\noclvhdhkxfnctqyirsabjwziup\\nomlvgdhkxfnctqyrrsbbjwsiup\\nnmlvghhkxfnctqyersayjwziup\\nomlvgdhksfnzcqyersabjwziup\\nomlvgdhbxknctqyerzabjwziup\\nomlvgdhsxflctqyercabjwziup\\nomlvgdhkxfncthyersabjpzgup\\nomlvgdhkxfnhtqyersadjwzilp\\nomlvgdhyxfnctqyershjjwziup\\nomlvhdhkxfnctqytesabjwziup\\nomlvgbhkxfnctqyhrsabjwmiup\\nomlvnyhkxfnctqyersabbwziup\\nomlvgdhkxfnhzqcersabjwziup\\nomljgdhkvynctqyersabjwziup\\nomrvgdhkxfnctqysrsabjmziup\\nomlvgdhgxenctqyerfabjwziup\\nomlvgdokxfncvqyersasjwziup\\nomlvguhkxfnctqyersabbbziup\\nimkvgdhkxfnctqyqrsabjwziup\\nomlvgdikxfnctwyersabbwziup\\noulvgdhuxfngtqyersabjwziup\\nomlvgdhkxfdctqqbrsabjwziup\\nomlvgdhbofnctqyersmbjwziup\\nomlzgdhkxfnctzyecsabjwziup\\noflvgdhkxfnctqyerpabjwzcup\\nommvgdhkxfnctqyicsabjwziup\\nomlvgdhkxfnctqyewsabjwzisd\\nojlvgdhfxfnctqyersabjwzihp\\nsmlvgdhkxfnctqyzrsabjwaiup\\nohlvgdhkxfnctqyersabnwziue\\njslvgdhkxfnctqdersabjwziup\\nomlvgdhkdenctwyersabjwziup\\norljgdhkxbnctqyersabjwziup\\nomlvgdhkxfnctaaersabjwzrup\\nqmlvgdhknfncqqyersabjwziup\\nomlvgdhkxfnctqyerssbjwncup\\nomlvgdhkxynctqdercabjwziup\\nomivgdhpxfnctqiersabjwziup\\nomuvgdbkxfnctqyersajjwziup\\nomlvbdokxfnctqyehsabjwziup\\ngmlvgdhkxcnctqyemsabjwziup\\nhmlvgdhkxfncsqyersabjwzidp\\nomlvgdhkxftztqytrsabjwziup\\nomlvgdhkxfnatqyeesabjbziup\\nomlvodhkxfnctqbirsabjwziup\\nomlvgdhsifnctqyersabjwziop\\noyvvgdhkxfnctqyersabjwzinp\\nqmlvgdhkxfnctqyersdbawziup\\nomlvguhkxfncuqyersabjwzipp\\nomspgdhkxfnctqyersabjwzifp\\nomlvgdhkxfnamqyeryabjwziup\\nomlvgdhkngnctqyxrsabjwziup\\nomdvcdhkxfnctqynrsabjwziup\\nomyvgdhkxfnctqyeryabjyziup\\nhmlvgdhkxfnctqyersabjwzwap\\nombvgdhkxfyctqyersabjwziuk\\nomlvadhkxfnctqyersoqjwziup\\nollugdhkxfnctqyersabjwzizp\\nomlvgdhkxfncvqmersabjwiiup\\nomlvgdkkxfnupqyersabjwziup\\nomlvgdhkxfncratersabjwziup\\noklvgdskxfnctqyersabjkziup\\nomlvgdhkxfnctqyernebgwziup\\nomsvgdhkxfnctqyersaejwziuv\\nomlvgdhkxfrctlynrsabjwziup\\nomlggdhkxfnctqyersbbjmziup\\nomlvgdhfxfnctqyehrabjwziup\\nomqvgdhkxfnctqcersabjwzfup\\nomlvgdhklfncqxyersabjwziup\\nomlvgxhkxfnctqyersabebziup\\nomlfgdhkxfnctjyersabkwziup\\nomlvgdhkxfnctqysrtabjwqiup\\nomlvgdhkxfnltqaersabfwziup\\nofhvgdhkxfnctqyessabjwziup\\nomlvpdekxfnctqyerscbjwziup\\nomlvcdhkxlnbtqyersabjwziup\\nomlvfdhkxfnctqyersabjwrnup\\nomlvddhkxfncdqyersabjwziut\\nomlvgdhkxfnctqxersabjhiiup\\nomidgdhkxfnctqyeysabjwziup\\nomlogdhkxfnptqyersabjwniup\\nomlvgdhkxfnwthyersabjwziuz\\nomevgdhkxgnctbyersabjwziup\\nomlvgdhkxfnytqyersabjozuup\\nomlvgvhkxfmctqyersabjwziuw\\noelvgdhkxfoctqyersadjwziup\\nlmlvgdhkxfnctqeersabjwzisp\\nomlvgdhkxfcctqyersasjwzibp\\ngmlvgdhkyfnctqyersabjwziuz\\nomlvgdhkxfnctslersabjwziuf\\nomlvgehkxfnctqyeosabjwziyp\\notlggdhkxfjctqyersabjwziup\\nbmjvgdhixfnctqyersabjwziup\\nomlvgqhkxfnctqdezsabjwziup\\nomlvgbhkxfnciqnersabjwziup\\nomlvgdhlxfnctqydrsdbjwziup\\nomlvgdhkxfncfqyersabjwxinp\\nymlvgdhkxfnctqyersabhwziui\\nomdvgdhkxfnctqyersabjwxdup\\nbmlvgdhkxfnwtwyersabjwziup\\ndmlvgmhkxfnctqyxrsabjwziup\\nomlvgdhkxbnntqyersabjiziup\\nomlvgdhkmfnctlyersgbjwziup\\nomlvgdhkxfnctqhersablwzixp\\nommvgdhkxfwctqyersabnwziup\\nomlkgdhjxfnctqyersabjwjiup\\nomlvgdhrxfnctqyeasabjnziup\\nomvvgdhkxtnctqyersabjtziup\\nomlvgdhkufgctqyersabfwziup\\nomqvgwhkxfnctqyevsabjwziup\\noalvgdhkyfyctqyersabjwziup\\nomlvgdhkxfnctqyefvabjwhiup\\njmlvgdakxfnctqyersabjwtiup\\ngmlvgmhkxfnctqyersaqjwziup\\nomlvgdhkxcnctqydrszbjwziup\\nomlvgdhkxfnctxnersxbjwziup\\nomlvgyhkxfnctqyersabjeaiup\\nomlcgdhkxfncvqyersabjoziup\\nomlvgdhkxfycttyercabjwziup\\nomlmgdhkpsnctqyersabjwziup\\nlmlvglhkxfnctqdersabjwziup\\nomlvgdhxdfncoqyersabjwziup\\nomlvgdhkxfnctqyersabjwkixv\\noplvgdhkxfnctiyersabjoziup\\nomlvgdnkxfnctdyersebjwziup\\nomlvguckxfnctqwersabjwziup\\nomlvgdhojfnctqyersabjoziup\\nopjvxdhkxfnctqyersabjwziup\\nomevgdhkdflctqyersabjwziup\\nomlvgilkxfncaqyersabjwziup\\nomlvgdhkqfnctqyersabunziup\\ndmlvgdhkxrnctqyerssbjwziup\\nomlvgdzcxfnctqyersabjwniup\\nomlvgdhkxfnctqyeraabpsziup\\nomlvgdhkxfnctqlersabjtziul\\nomlvgbhkxfnctqyeysabjwpiup\\nomlvgdhvxfnmttyersabjwziup\\nomlvgdhkxznctqyersabewziua\\noqlvgdhkxfnctqjersabjfziup\\nomlvgdhkqfnctqyoysabjwziup\\nomlvgdhkxfnctqylrzabbwziup\\noalvguhkxfnctqyersabawziup\\nomlvgdokxfncvqyersasjlziup\\nomlvgdhkcfnctqyersazjwzfup\\noslvgdhpxfnctqyhrsabjwziup\\nomlvgdhkxfnotqcqrsabjwziup\\numlvgdhlxfnctqyersnbjwziup\\noxlvgdhkxfnktjyersabjwziup\\nomlvgdhkxhncnqyersabjwzirp\\njmlvgdhkxfncfqyersabjwzqup\\nomlvgdhkbfnutvyersabjwziup\\nomhvgddkxfnctqyersabqwziup\\nomlvgdukxfnbtqyersabjwzjup\\noylvndhkxfnctqversabjwziup\\nomlvgdhkcfnctqyersamjwfiup\\nomlvgdskxfnctqyerssbjgziup\\nqmlvgdhkxfncxqyersabiwziup\\nomlvghhkxfnctwyersaljwziup\\nomlvgdhkpfnbtqyersnbjwziup\\nomlvgthkxfnctnyersabjwziut\\nomlvgdhkpfnctqyeisabjfziup\\nomlvgdhrxrnctqyersabjwzigp\\nomlvjdhkxfnctqyersabpwwiup\\nomlvgdhkxfnctsyersabjwzixl\\namlvgdhktfnctqyersabfwziup\\noklvvdhkxfnctoyersabjwziup\\nrmlvgdhkxfncwqyersabxwziup\\nomlvgdhkxfnctqyersabiwzjfp\\nomlvgehkxfnctqyersebjzziup\\nomlvgdhkxfncaqyersabwwzoup\\nomlvgdhkxfncjqyersanjwfiup\\nomlvgdhkwfnctqyersqbjwziux\\nomrvgdhjxfnctqyeksabjwziup\\nomlvgdhkxfnctpyersaftwziup\""
      ]
     },
     "execution_count": 1,
     "metadata": {},
     "output_type": "execute_result"
    }
   ],
   "source": [
    "input = String(\"omlvgpokxfnctqyersabjwzizp\n",
    "omlvtdhxxflctqyersabjwziup\n",
    "omlvgdakxfnctqyersabzmziup\n",
    "omlvgdhkxfnchqyersarjwsiup\n",
    "omlvgdnkxfnctqyersabhwziuq\n",
    "omvlgdhkxfnctqyersajjwziup\n",
    "fmlvgdbkxfnctqyersabjwzqup\n",
    "omlvcdhexfnctqyersibjwziup\n",
    "omlvgdhkxfnctqyersoyjnziup\n",
    "omdbgdhpxfnctqyersabjwziup\n",
    "omlvgdbkxfnctiyersabjwziwp\n",
    "omlogdhkxfncpqyersabjfziup\n",
    "omlvgdhkxfncxayersabwwziup\n",
    "omlvgdhkxfgctqyepsabjnziup\n",
    "omlvzdhkxfnctqyerxabjwoiup\n",
    "orlvtdhoxfnctqyersabjwziup\n",
    "omgvgdhkxfnctqyetsarjwziup\n",
    "omlvgdhkxunctcqersabjwziup\n",
    "omlvgdhkxfnctqyertakjwziun\n",
    "omlvhdhkxfhetqyersabjwziup\n",
    "omlvjdhkxfnctqyersabjtzirp\n",
    "omsvgdhkifnctqyeryabjwziup\n",
    "ohlvgdhkxfncteyersabtwziup\n",
    "omlvgdhkxjqctqyerkabjwziup\n",
    "omljgdhkxfncxqiersabjwziup\n",
    "omlvgdhkxvnctqyetscbjwziup\n",
    "omlvgdhxxfnctqykrsabjwziui\n",
    "omlbgdhkxfnetqyersabjwliup\n",
    "omlvgvhkxfnctqyerjabjwzwup\n",
    "wmlvgdhkxfnctqyyrsabjwziuc\n",
    "omlvgdhkufnctqxersabjwpiup\n",
    "omlvgdtkxfnctqyercvbjwziup\n",
    "omtvgdhkxfnctqygrsmbjwziup\n",
    "omlvgdbkxfnctqyersagjwzrup\n",
    "omlvgdpksfnctqyorsabjwziup\n",
    "omlvgdlkxfnctqyerhaajwziup\n",
    "omlvgdhkxfnctqyersabjwkiqh\n",
    "omlvgdykxfnctqdersdbjwziup\n",
    "omligdhklfnctpyersabjwziup\n",
    "omlvzdhkxfnctryersabjwziap\n",
    "nmlvgdqkxfnctqyemsabjwziup\n",
    "omlvgdhkxoncqqyersabjyziup\n",
    "otlvgdhkxfnctqyersabjwzzhp\n",
    "omlvgdhvxfnctqyirsabjwziue\n",
    "omlvgohkxfnctqjersabjwzeup\n",
    "omlngdhkxfnytqyersabjwsiup\n",
    "gmlvgbhkxfnctqyersabjwziyp\n",
    "nmlvgxhkxfnctqyxrsabjwziup\n",
    "omlvwdhkufnctqyerfabjwziup\n",
    "omlvqdhkxfnctqyersabfmziup\n",
    "omlvgdhkxfnctqlerscbjeziup\n",
    "omlvgdhkxfncxqyerjabjgziup\n",
    "omlvgdhkxwnctqyersvbjwriup\n",
    "ozlvgdhkxfnctqyersabjjziuj\n",
    "omlvguhkxfnctqyersabjwznut\n",
    "ozlvwdhkxfactqyersabjwziup\n",
    "oplvgdhkxfnctqyersakjwiiup\n",
    "omlkgbhkxfnctqyetsabjwziup\n",
    "oukvgdhkxfnctqyerslbjwziup\n",
    "omllgwhkxfnctqyersasjwziup\n",
    "omlvgdqkvfnctqyjrsabjwziup\n",
    "omlvguhkxfnctqyepsakjwziup\n",
    "oblvgdhkxfnctqyersibjwciup\n",
    "omlvgdhkxfpetqyersnbjwziup\n",
    "omlvgdhkxfnctqyersabgwpmup\n",
    "ohlvgdhkxfnctqyersgbjwdiup\n",
    "omlvgkhkxfnctqyarsabjwziuj\n",
    "omtvgdhkxfnctqoersabjwzfup\n",
    "omlvgdhkxfncbqyersafjwzkup\n",
    "amlvgdhkmfnctqyorsabjwziup\n",
    "omlvndhkxfnctbyersagjwziup\n",
    "oslvgdhkxfactqyersabjwziip\n",
    "omlvgdhkxfnrtqyerumbjwziup\n",
    "omjvgdhaxfnctqyersajjwziup\n",
    "omlvgdhkxfyctqyersabjvziuf\n",
    "omlvgdhkxfgctqyervabjwzuup\n",
    "oclvhdhkxfnctqyirsabjwziup\n",
    "omlvgdhkxfnctqyrrsbbjwsiup\n",
    "nmlvghhkxfnctqyersayjwziup\n",
    "omlvgdhksfnzcqyersabjwziup\n",
    "omlvgdhbxknctqyerzabjwziup\n",
    "omlvgdhsxflctqyercabjwziup\n",
    "omlvgdhkxfncthyersabjpzgup\n",
    "omlvgdhkxfnhtqyersadjwzilp\n",
    "omlvgdhyxfnctqyershjjwziup\n",
    "omlvhdhkxfnctqytesabjwziup\n",
    "omlvgbhkxfnctqyhrsabjwmiup\n",
    "omlvnyhkxfnctqyersabbwziup\n",
    "omlvgdhkxfnhzqcersabjwziup\n",
    "omljgdhkvynctqyersabjwziup\n",
    "omrvgdhkxfnctqysrsabjmziup\n",
    "omlvgdhgxenctqyerfabjwziup\n",
    "omlvgdokxfncvqyersasjwziup\n",
    "omlvguhkxfnctqyersabbbziup\n",
    "imkvgdhkxfnctqyqrsabjwziup\n",
    "omlvgdikxfnctwyersabbwziup\n",
    "oulvgdhuxfngtqyersabjwziup\n",
    "omlvgdhkxfdctqqbrsabjwziup\n",
    "omlvgdhbofnctqyersmbjwziup\n",
    "omlzgdhkxfnctzyecsabjwziup\n",
    "oflvgdhkxfnctqyerpabjwzcup\n",
    "ommvgdhkxfnctqyicsabjwziup\n",
    "omlvgdhkxfnctqyewsabjwzisd\n",
    "ojlvgdhfxfnctqyersabjwzihp\n",
    "smlvgdhkxfnctqyzrsabjwaiup\n",
    "ohlvgdhkxfnctqyersabnwziue\n",
    "jslvgdhkxfnctqdersabjwziup\n",
    "omlvgdhkdenctwyersabjwziup\n",
    "orljgdhkxbnctqyersabjwziup\n",
    "omlvgdhkxfnctaaersabjwzrup\n",
    "qmlvgdhknfncqqyersabjwziup\n",
    "omlvgdhkxfnctqyerssbjwncup\n",
    "omlvgdhkxynctqdercabjwziup\n",
    "omivgdhpxfnctqiersabjwziup\n",
    "omuvgdbkxfnctqyersajjwziup\n",
    "omlvbdokxfnctqyehsabjwziup\n",
    "gmlvgdhkxcnctqyemsabjwziup\n",
    "hmlvgdhkxfncsqyersabjwzidp\n",
    "omlvgdhkxftztqytrsabjwziup\n",
    "omlvgdhkxfnatqyeesabjbziup\n",
    "omlvodhkxfnctqbirsabjwziup\n",
    "omlvgdhsifnctqyersabjwziop\n",
    "oyvvgdhkxfnctqyersabjwzinp\n",
    "qmlvgdhkxfnctqyersdbawziup\n",
    "omlvguhkxfncuqyersabjwzipp\n",
    "omspgdhkxfnctqyersabjwzifp\n",
    "omlvgdhkxfnamqyeryabjwziup\n",
    "omlvgdhkngnctqyxrsabjwziup\n",
    "omdvcdhkxfnctqynrsabjwziup\n",
    "omyvgdhkxfnctqyeryabjyziup\n",
    "hmlvgdhkxfnctqyersabjwzwap\n",
    "ombvgdhkxfyctqyersabjwziuk\n",
    "omlvadhkxfnctqyersoqjwziup\n",
    "ollugdhkxfnctqyersabjwzizp\n",
    "omlvgdhkxfncvqmersabjwiiup\n",
    "omlvgdkkxfnupqyersabjwziup\n",
    "omlvgdhkxfncratersabjwziup\n",
    "oklvgdskxfnctqyersabjkziup\n",
    "omlvgdhkxfnctqyernebgwziup\n",
    "omsvgdhkxfnctqyersaejwziuv\n",
    "omlvgdhkxfrctlynrsabjwziup\n",
    "omlggdhkxfnctqyersbbjmziup\n",
    "omlvgdhfxfnctqyehrabjwziup\n",
    "omqvgdhkxfnctqcersabjwzfup\n",
    "omlvgdhklfncqxyersabjwziup\n",
    "omlvgxhkxfnctqyersabebziup\n",
    "omlfgdhkxfnctjyersabkwziup\n",
    "omlvgdhkxfnctqysrtabjwqiup\n",
    "omlvgdhkxfnltqaersabfwziup\n",
    "ofhvgdhkxfnctqyessabjwziup\n",
    "omlvpdekxfnctqyerscbjwziup\n",
    "omlvcdhkxlnbtqyersabjwziup\n",
    "omlvfdhkxfnctqyersabjwrnup\n",
    "omlvddhkxfncdqyersabjwziut\n",
    "omlvgdhkxfnctqxersabjhiiup\n",
    "omidgdhkxfnctqyeysabjwziup\n",
    "omlogdhkxfnptqyersabjwniup\n",
    "omlvgdhkxfnwthyersabjwziuz\n",
    "omevgdhkxgnctbyersabjwziup\n",
    "omlvgdhkxfnytqyersabjozuup\n",
    "omlvgvhkxfmctqyersabjwziuw\n",
    "oelvgdhkxfoctqyersadjwziup\n",
    "lmlvgdhkxfnctqeersabjwzisp\n",
    "omlvgdhkxfcctqyersasjwzibp\n",
    "gmlvgdhkyfnctqyersabjwziuz\n",
    "omlvgdhkxfnctslersabjwziuf\n",
    "omlvgehkxfnctqyeosabjwziyp\n",
    "otlggdhkxfjctqyersabjwziup\n",
    "bmjvgdhixfnctqyersabjwziup\n",
    "omlvgqhkxfnctqdezsabjwziup\n",
    "omlvgbhkxfnciqnersabjwziup\n",
    "omlvgdhlxfnctqydrsdbjwziup\n",
    "omlvgdhkxfncfqyersabjwxinp\n",
    "ymlvgdhkxfnctqyersabhwziui\n",
    "omdvgdhkxfnctqyersabjwxdup\n",
    "bmlvgdhkxfnwtwyersabjwziup\n",
    "dmlvgmhkxfnctqyxrsabjwziup\n",
    "omlvgdhkxbnntqyersabjiziup\n",
    "omlvgdhkmfnctlyersgbjwziup\n",
    "omlvgdhkxfnctqhersablwzixp\n",
    "ommvgdhkxfwctqyersabnwziup\n",
    "omlkgdhjxfnctqyersabjwjiup\n",
    "omlvgdhrxfnctqyeasabjnziup\n",
    "omvvgdhkxtnctqyersabjtziup\n",
    "omlvgdhkufgctqyersabfwziup\n",
    "omqvgwhkxfnctqyevsabjwziup\n",
    "oalvgdhkyfyctqyersabjwziup\n",
    "omlvgdhkxfnctqyefvabjwhiup\n",
    "jmlvgdakxfnctqyersabjwtiup\n",
    "gmlvgmhkxfnctqyersaqjwziup\n",
    "omlvgdhkxcnctqydrszbjwziup\n",
    "omlvgdhkxfnctxnersxbjwziup\n",
    "omlvgyhkxfnctqyersabjeaiup\n",
    "omlcgdhkxfncvqyersabjoziup\n",
    "omlvgdhkxfycttyercabjwziup\n",
    "omlmgdhkpsnctqyersabjwziup\n",
    "lmlvglhkxfnctqdersabjwziup\n",
    "omlvgdhxdfncoqyersabjwziup\n",
    "omlvgdhkxfnctqyersabjwkixv\n",
    "oplvgdhkxfnctiyersabjoziup\n",
    "omlvgdnkxfnctdyersebjwziup\n",
    "omlvguckxfnctqwersabjwziup\n",
    "omlvgdhojfnctqyersabjoziup\n",
    "opjvxdhkxfnctqyersabjwziup\n",
    "omevgdhkdflctqyersabjwziup\n",
    "omlvgilkxfncaqyersabjwziup\n",
    "omlvgdhkqfnctqyersabunziup\n",
    "dmlvgdhkxrnctqyerssbjwziup\n",
    "omlvgdzcxfnctqyersabjwniup\n",
    "omlvgdhkxfnctqyeraabpsziup\n",
    "omlvgdhkxfnctqlersabjtziul\n",
    "omlvgbhkxfnctqyeysabjwpiup\n",
    "omlvgdhvxfnmttyersabjwziup\n",
    "omlvgdhkxznctqyersabewziua\n",
    "oqlvgdhkxfnctqjersabjfziup\n",
    "omlvgdhkqfnctqyoysabjwziup\n",
    "omlvgdhkxfnctqylrzabbwziup\n",
    "oalvguhkxfnctqyersabawziup\n",
    "omlvgdokxfncvqyersasjlziup\n",
    "omlvgdhkcfnctqyersazjwzfup\n",
    "oslvgdhpxfnctqyhrsabjwziup\n",
    "omlvgdhkxfnotqcqrsabjwziup\n",
    "umlvgdhlxfnctqyersnbjwziup\n",
    "oxlvgdhkxfnktjyersabjwziup\n",
    "omlvgdhkxhncnqyersabjwzirp\n",
    "jmlvgdhkxfncfqyersabjwzqup\n",
    "omlvgdhkbfnutvyersabjwziup\n",
    "omhvgddkxfnctqyersabqwziup\n",
    "omlvgdukxfnbtqyersabjwzjup\n",
    "oylvndhkxfnctqversabjwziup\n",
    "omlvgdhkcfnctqyersamjwfiup\n",
    "omlvgdskxfnctqyerssbjgziup\n",
    "qmlvgdhkxfncxqyersabiwziup\n",
    "omlvghhkxfnctwyersaljwziup\n",
    "omlvgdhkpfnbtqyersnbjwziup\n",
    "omlvgthkxfnctnyersabjwziut\n",
    "omlvgdhkpfnctqyeisabjfziup\n",
    "omlvgdhrxrnctqyersabjwzigp\n",
    "omlvjdhkxfnctqyersabpwwiup\n",
    "omlvgdhkxfnctsyersabjwzixl\n",
    "amlvgdhktfnctqyersabfwziup\n",
    "oklvvdhkxfnctoyersabjwziup\n",
    "rmlvgdhkxfncwqyersabxwziup\n",
    "omlvgdhkxfnctqyersabiwzjfp\n",
    "omlvgehkxfnctqyersebjzziup\n",
    "omlvgdhkxfncaqyersabwwzoup\n",
    "omlvgdhkxfncjqyersanjwfiup\n",
    "omlvgdhkwfnctqyersqbjwziux\n",
    "omrvgdhjxfnctqyeksabjwziup\n",
    "omlvgdhkxfnctpyersaftwziup\")"
   ]
  },
  {
   "cell_type": "code",
   "execution_count": 2,
   "metadata": {},
   "outputs": [
    {
     "data": {
      "text/plain": [
       "250-element Array{SubString{String},1}:\n",
       " \"omlvgpokxfnctqyersabjwzizp\"\n",
       " \"omlvtdhxxflctqyersabjwziup\"\n",
       " \"omlvgdakxfnctqyersabzmziup\"\n",
       " \"omlvgdhkxfnchqyersarjwsiup\"\n",
       " \"omlvgdnkxfnctqyersabhwziuq\"\n",
       " \"omvlgdhkxfnctqyersajjwziup\"\n",
       " \"fmlvgdbkxfnctqyersabjwzqup\"\n",
       " \"omlvcdhexfnctqyersibjwziup\"\n",
       " \"omlvgdhkxfnctqyersoyjnziup\"\n",
       " \"omdbgdhpxfnctqyersabjwziup\"\n",
       " \"omlvgdbkxfnctiyersabjwziwp\"\n",
       " \"omlogdhkxfncpqyersabjfziup\"\n",
       " \"omlvgdhkxfncxayersabwwziup\"\n",
       " ⋮                           \n",
       " \"omlvjdhkxfnctqyersabpwwiup\"\n",
       " \"omlvgdhkxfnctsyersabjwzixl\"\n",
       " \"amlvgdhktfnctqyersabfwziup\"\n",
       " \"oklvvdhkxfnctoyersabjwziup\"\n",
       " \"rmlvgdhkxfncwqyersabxwziup\"\n",
       " \"omlvgdhkxfnctqyersabiwzjfp\"\n",
       " \"omlvgehkxfnctqyersebjzziup\"\n",
       " \"omlvgdhkxfncaqyersabwwzoup\"\n",
       " \"omlvgdhkxfncjqyersanjwfiup\"\n",
       " \"omlvgdhkwfnctqyersqbjwziux\"\n",
       " \"omrvgdhjxfnctqyeksabjwziup\"\n",
       " \"omlvgdhkxfnctpyersaftwziup\""
      ]
     },
     "execution_count": 2,
     "metadata": {},
     "output_type": "execute_result"
    }
   ],
   "source": [
    "box_ids = split(input, \"\\n\")"
   ]
  },
  {
   "cell_type": "code",
   "execution_count": 3,
   "metadata": {},
   "outputs": [
    {
     "data": {
      "text/plain": [
       "Dict{Char,Integer} with 26 entries:\n",
       "  'n' => 0\n",
       "  'f' => 0\n",
       "  'w' => 0\n",
       "  'd' => 0\n",
       "  'e' => 0\n",
       "  'o' => 0\n",
       "  'h' => 0\n",
       "  'j' => 0\n",
       "  'i' => 0\n",
       "  'k' => 0\n",
       "  'r' => 0\n",
       "  's' => 0\n",
       "  't' => 0\n",
       "  'q' => 0\n",
       "  'y' => 0\n",
       "  'a' => 0\n",
       "  'c' => 0\n",
       "  'p' => 0\n",
       "  'm' => 0\n",
       "  'z' => 0\n",
       "  'g' => 0\n",
       "  'v' => 0\n",
       "  'l' => 0\n",
       "  'u' => 0\n",
       "  'x' => 0\n",
       "  'b' => 0"
      ]
     },
     "execution_count": 3,
     "metadata": {},
     "output_type": "execute_result"
    }
   ],
   "source": [
    "lookup_table = Dict{Char, Integer}(letter => 0 for letter = 'a':'z')"
   ]
  },
  {
   "cell_type": "code",
   "execution_count": 4,
   "metadata": {},
   "outputs": [],
   "source": [
    "# box_ids = [\n",
    "#     \"abcdef\",\n",
    "#     \"bababc\",\n",
    "#     \"abbcde\",\n",
    "#     \"abcccd\",\n",
    "#     \"aabcdd\",\n",
    "#     \"abcdee\",\n",
    "#     \"ababab\",\n",
    "# ]"
   ]
  },
  {
   "cell_type": "code",
   "execution_count": 5,
   "metadata": {},
   "outputs": [
    {
     "name": "stdout",
     "output_type": "stream",
     "text": [
      "Checksum: 7105.\n"
     ]
    }
   ],
   "source": [
    "two_counts = 0\n",
    "three_counts = 0\n",
    "for box_id in box_ids\n",
    "    lookup_table = Dict{Char, Integer}(letter => 0 for letter = 'a':'z')\n",
    "    for letter in box_id\n",
    "        lookup_table[letter] += 1\n",
    "    end\n",
    "    two_counts += length([x for x in values(lookup_table) if x == 2]) > 0 ? 1 : 0\n",
    "    three_counts += length([x for x in values(lookup_table) if x == 3]) > 0 ? 1 : 0\n",
    "end\n",
    "println(\"Checksum: $(two_counts * three_counts).\")"
   ]
  },
  {
   "cell_type": "code",
   "execution_count": 6,
   "metadata": {},
   "outputs": [],
   "source": [
    "# box_ids = [\n",
    "#     \"abcde\",\n",
    "#     \"fghij\",\n",
    "#     \"klmno\",\n",
    "#     \"pqrst\",\n",
    "#     \"fguij\",\n",
    "#     \"axcye\",\n",
    "#     \"wvxyz\",\n",
    "# ]"
   ]
  },
  {
   "cell_type": "code",
   "execution_count": 7,
   "metadata": {},
   "outputs": [
    {
     "data": {
      "text/plain": [
       "off_by_ones (generic function with 2 methods)"
      ]
     },
     "execution_count": 7,
     "metadata": {},
     "output_type": "execute_result"
    }
   ],
   "source": [
    "off_by_ones(left::String, right::String) = sum(map(!=, left, right)) == 1\n",
    "off_by_ones(left::SubString{String}, right::SubString{String}) = sum(map(!=, left, right)) == 1"
   ]
  },
  {
   "cell_type": "code",
   "execution_count": 8,
   "metadata": {},
   "outputs": [
    {
     "name": "stdout",
     "output_type": "stream",
     "text": [
      "omlvgdokxfncvqyersasjwziup and omlvgdokxfncvqyersasjlziup are off by one"
     ]
    }
   ],
   "source": [
    "found = false\n",
    "for (i, left) in enumerate(box_ids[1:end])\n",
    "    for (j, right) in enumerate(box_ids[i:end])\n",
    "        if off_by_ones(left, right)\n",
    "            print(\"$left and $right are off by one\")\n",
    "            global solution = (left, right)\n",
    "            found = true\n",
    "            break\n",
    "        end\n",
    "    end\n",
    "    if found\n",
    "        break\n",
    "    end\n",
    "end"
   ]
  },
  {
   "cell_type": "code",
   "execution_count": 9,
   "metadata": {},
   "outputs": [
    {
     "data": {
      "text/plain": [
       "(\"omlvgdokxfncvqyersasjwziup\", \"omlvgdokxfncvqyersasjlziup\")"
      ]
     },
     "execution_count": 9,
     "metadata": {},
     "output_type": "execute_result"
    }
   ],
   "source": [
    "solution"
   ]
  },
  {
   "cell_type": "code",
   "execution_count": 10,
   "metadata": {},
   "outputs": [
    {
     "data": {
      "text/plain": [
       "\"omlvgdokxfncvqyersasjziup\""
      ]
     },
     "execution_count": 10,
     "metadata": {},
     "output_type": "execute_result"
    }
   ],
   "source": [
    "mask = map(==, solution[1], solution[2])\n",
    "join([x for (i, x) in enumerate(solution[1]) if mask[i]])"
   ]
  }
 ],
 "metadata": {
  "kernelspec": {
   "display_name": "Julia 1.0.0",
   "language": "julia",
   "name": "julia-1.0"
  },
  "language_info": {
   "file_extension": ".jl",
   "mimetype": "application/julia",
   "name": "julia",
   "version": "1.0.2"
  }
 },
 "nbformat": 4,
 "nbformat_minor": 2
}
