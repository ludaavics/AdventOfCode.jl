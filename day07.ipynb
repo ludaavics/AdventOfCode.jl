{
 "cells": [
  {
   "cell_type": "code",
   "execution_count": 1,
   "metadata": {},
   "outputs": [
    {
     "data": {
      "text/plain": [
       "\"Step Z must be finished before step V can begin.\\nStep V must be finished before step K can begin.\\nStep M must be finished before step Q can begin.\\nStep E must be finished before step X can begin.\\nStep J must be finished before step W can begin.\\nStep L must be finished before step O can begin.\\nStep Q must be finished before step T can begin.\\nStep Y must be finished before step P can begin.\\nStep X must be finished before step R can begin.\\nStep T must be finished before step U can begin.\\nStep I must be finished before step O can begin.\\nStep P must be finished before step H can begin.\\nStep G must be finished before step A can begin.\\nStep N must be finished before step A can begin.\\nStep H must be finished before step B can begin.\\nStep F must be finished before step D can begin.\\nStep S must be finished before step O can begin.\\nStep O must be finished before step W can begin.\\nStep D must be finished before step U can begin.\\nStep W must be finished before step B can begin.\\nStep A must be finished before step K can begin.\\nStep B must be finished before step R can begin.\\nStep K must be finished before step C can begin.\\nStep R must be finished before step C can begin.\\nStep U must be finished before step C can begin.\\nStep A must be finished before step U can begin.\\nStep J must be finished before step I can begin.\\nStep D must be finished before step K can begin.\\nStep V must be finished before step S can begin.\\nStep H must be finished before step C can begin.\\nStep R must be finished before step U can begin.\\nStep I must be finished before step G can begin.\\nStep D must be finished before step R can begin.\\nStep M must be finished before step B can begin.\\nStep G must be finished before step R can begin.\\nStep M must be finished before step I can begin.\\nStep G must be finished before step N can begin.\\nStep M must be finished before step N can begin.\\nStep Q must be finished before step S can begin.\\nStep I must be finished before step S can begin.\\nStep J must be finished before step R can begin.\\nStep O must be finished before step B can begin.\\nStep G must be finished before step S can begin.\\nStep J must be finished before step C can begin.\\nStep M must be finished before step D can begin.\\nStep T must be finished before step H can begin.\\nStep P must be finished before step N can begin.\\nStep S must be finished before step K can begin.\\nStep T must be finished before step C can begin.\\nStep J must be finished before step A can begin.\\nStep G must be finished before step F can begin.\\nStep N must be finished before step R can begin.\\nStep N must be finished before step W can begin.\\nStep T must be finished before step I can begin.\\nStep S must be finished before step B can begin.\\nStep H must be finished before step F can begin.\\nStep B must be finished before step C can begin.\\nStep L must be finished before step W can begin.\\nStep N must be finished before step O can begin.\\nStep O must be finished before step A can begin.\\nStep H must be finished before step S can begin.\\nStep F must be finished before step A can begin.\\nStep F must be finished before step C can begin.\\nStep M must be finished before step A can begin.\\nStep Z must be finished before step H can begin.\\nStep Z must be finished before step L can begin.\\nStep E must be finished before step H can begin.\\nStep X must be finished before step T can begin.\\nStep Y must be finished before step X can begin.\\nStep E must be finished before step W can begin.\\nStep P must be finished before step R can begin.\\nStep Z must be finished before step E can begin.\\nStep W must be finished before step C can begin.\\nStep I must be finished before step P can begin.\\nStep X must be finished before step A can begin.\\nStep Y must be finished before step C can begin.\\nStep I must be finished before step F can begin.\\nStep L must be finished before step T can begin.\\nStep A must be finished before step B can begin.\\nStep F must be finished before step W can begin.\\nStep T must be finished before step R can begin.\\nStep X must be finished before step F can begin.\\nStep M must be finished before step O can begin.\\nStep N must be finished before step K can begin.\\nStep T must be finished before step S can begin.\\nStep J must be finished before step N can begin.\\nStep J must be finished before step S can begin.\\nStep O must be finished before step D can begin.\\nStep T must be finished before step P can begin.\\nStep Z must be finished before step D can begin.\\nStep L must be finished before step X can begin.\\nStep Q must be finished before step G can begin.\\nStep M must be finished before step G can begin.\\nStep P must be finished before step W can begin.\\nStep V must be finished before step P can begin.\\nStep D must be finished before step B can begin.\\nStep Y must be finished before step D can begin.\\nStep X must be finished before step S can begin.\\nStep K must be finished before step U can begin.\\nStep Z must be finished before step Y can begin.\\nStep D must be finished before step W can begin.\""
      ]
     },
     "execution_count": 1,
     "metadata": {},
     "output_type": "execute_result"
    }
   ],
   "source": [
    "input = String(\"Step Z must be finished before step V can begin.\n",
    "Step V must be finished before step K can begin.\n",
    "Step M must be finished before step Q can begin.\n",
    "Step E must be finished before step X can begin.\n",
    "Step J must be finished before step W can begin.\n",
    "Step L must be finished before step O can begin.\n",
    "Step Q must be finished before step T can begin.\n",
    "Step Y must be finished before step P can begin.\n",
    "Step X must be finished before step R can begin.\n",
    "Step T must be finished before step U can begin.\n",
    "Step I must be finished before step O can begin.\n",
    "Step P must be finished before step H can begin.\n",
    "Step G must be finished before step A can begin.\n",
    "Step N must be finished before step A can begin.\n",
    "Step H must be finished before step B can begin.\n",
    "Step F must be finished before step D can begin.\n",
    "Step S must be finished before step O can begin.\n",
    "Step O must be finished before step W can begin.\n",
    "Step D must be finished before step U can begin.\n",
    "Step W must be finished before step B can begin.\n",
    "Step A must be finished before step K can begin.\n",
    "Step B must be finished before step R can begin.\n",
    "Step K must be finished before step C can begin.\n",
    "Step R must be finished before step C can begin.\n",
    "Step U must be finished before step C can begin.\n",
    "Step A must be finished before step U can begin.\n",
    "Step J must be finished before step I can begin.\n",
    "Step D must be finished before step K can begin.\n",
    "Step V must be finished before step S can begin.\n",
    "Step H must be finished before step C can begin.\n",
    "Step R must be finished before step U can begin.\n",
    "Step I must be finished before step G can begin.\n",
    "Step D must be finished before step R can begin.\n",
    "Step M must be finished before step B can begin.\n",
    "Step G must be finished before step R can begin.\n",
    "Step M must be finished before step I can begin.\n",
    "Step G must be finished before step N can begin.\n",
    "Step M must be finished before step N can begin.\n",
    "Step Q must be finished before step S can begin.\n",
    "Step I must be finished before step S can begin.\n",
    "Step J must be finished before step R can begin.\n",
    "Step O must be finished before step B can begin.\n",
    "Step G must be finished before step S can begin.\n",
    "Step J must be finished before step C can begin.\n",
    "Step M must be finished before step D can begin.\n",
    "Step T must be finished before step H can begin.\n",
    "Step P must be finished before step N can begin.\n",
    "Step S must be finished before step K can begin.\n",
    "Step T must be finished before step C can begin.\n",
    "Step J must be finished before step A can begin.\n",
    "Step G must be finished before step F can begin.\n",
    "Step N must be finished before step R can begin.\n",
    "Step N must be finished before step W can begin.\n",
    "Step T must be finished before step I can begin.\n",
    "Step S must be finished before step B can begin.\n",
    "Step H must be finished before step F can begin.\n",
    "Step B must be finished before step C can begin.\n",
    "Step L must be finished before step W can begin.\n",
    "Step N must be finished before step O can begin.\n",
    "Step O must be finished before step A can begin.\n",
    "Step H must be finished before step S can begin.\n",
    "Step F must be finished before step A can begin.\n",
    "Step F must be finished before step C can begin.\n",
    "Step M must be finished before step A can begin.\n",
    "Step Z must be finished before step H can begin.\n",
    "Step Z must be finished before step L can begin.\n",
    "Step E must be finished before step H can begin.\n",
    "Step X must be finished before step T can begin.\n",
    "Step Y must be finished before step X can begin.\n",
    "Step E must be finished before step W can begin.\n",
    "Step P must be finished before step R can begin.\n",
    "Step Z must be finished before step E can begin.\n",
    "Step W must be finished before step C can begin.\n",
    "Step I must be finished before step P can begin.\n",
    "Step X must be finished before step A can begin.\n",
    "Step Y must be finished before step C can begin.\n",
    "Step I must be finished before step F can begin.\n",
    "Step L must be finished before step T can begin.\n",
    "Step A must be finished before step B can begin.\n",
    "Step F must be finished before step W can begin.\n",
    "Step T must be finished before step R can begin.\n",
    "Step X must be finished before step F can begin.\n",
    "Step M must be finished before step O can begin.\n",
    "Step N must be finished before step K can begin.\n",
    "Step T must be finished before step S can begin.\n",
    "Step J must be finished before step N can begin.\n",
    "Step J must be finished before step S can begin.\n",
    "Step O must be finished before step D can begin.\n",
    "Step T must be finished before step P can begin.\n",
    "Step Z must be finished before step D can begin.\n",
    "Step L must be finished before step X can begin.\n",
    "Step Q must be finished before step G can begin.\n",
    "Step M must be finished before step G can begin.\n",
    "Step P must be finished before step W can begin.\n",
    "Step V must be finished before step P can begin.\n",
    "Step D must be finished before step B can begin.\n",
    "Step Y must be finished before step D can begin.\n",
    "Step X must be finished before step S can begin.\n",
    "Step K must be finished before step U can begin.\n",
    "Step Z must be finished before step Y can begin.\n",
    "Step D must be finished before step W can begin.\")"
   ]
  },
  {
   "cell_type": "code",
   "execution_count": 2,
   "metadata": {},
   "outputs": [
    {
     "data": {
      "text/plain": [
       "\"Step C must be finished before step A can begin.\\nStep C must be finished before step F can begin.\\nStep A must be finished before step B can begin.\\nStep A must be finished before step D can begin.\\nStep B must be finished before step E can begin.\\nStep D must be finished before step E can begin.\\nStep F must be finished before step E can begin.\""
      ]
     },
     "execution_count": 2,
     "metadata": {},
     "output_type": "execute_result"
    }
   ],
   "source": [
    "test_input = String(\"Step C must be finished before step A can begin.\n",
    "Step C must be finished before step F can begin.\n",
    "Step A must be finished before step B can begin.\n",
    "Step A must be finished before step D can begin.\n",
    "Step B must be finished before step E can begin.\n",
    "Step D must be finished before step E can begin.\n",
    "Step F must be finished before step E can begin.\")"
   ]
  },
  {
   "cell_type": "code",
   "execution_count": 3,
   "metadata": {},
   "outputs": [
    {
     "data": {
      "text/plain": [
       "parse_dependencies (generic function with 1 method)"
      ]
     },
     "execution_count": 3,
     "metadata": {},
     "output_type": "execute_result"
    }
   ],
   "source": [
    "function parse_dependencies(input)\n",
    "    dependencies = Dict{Char, Array{Char}}()\n",
    "    for line in split(input, \"\\n\")\n",
    "        step = line[37]\n",
    "        dependency = line[6]\n",
    "        deps = get(dependencies, step, Array{Char}(undef, 0))\n",
    "        push!(deps, dependency)\n",
    "        dependencies[step] = deps\n",
    "        \n",
    "        if !(dependency in keys(dependencies))\n",
    "            dependencies[dependency] = Array{Char}(undef, 0)\n",
    "        end\n",
    "    end\n",
    "    return dependencies\n",
    "end"
   ]
  },
  {
   "cell_type": "code",
   "execution_count": 4,
   "metadata": {},
   "outputs": [
    {
     "data": {
      "text/plain": [
       "schedule (generic function with 1 method)"
      ]
     },
     "execution_count": 4,
     "metadata": {},
     "output_type": "execute_result"
    }
   ],
   "source": [
    "function schedule(dependencies)\n",
    "    dependencies = copy(dependencies)\n",
    "    tasks = []\n",
    "    while true\n",
    "        candidates = filter((t) -> length(t.second) == 0, dependencies)\n",
    "        if length(candidates) == 0\n",
    "            break\n",
    "        end\n",
    "        task = sort(collect(keys(candidates)))[1]\n",
    "        push!(tasks, task)\n",
    "        delete!(dependencies, task)\n",
    "        for (k, b) in dependencies\n",
    "            deleteat!(dependencies[k], findall(x -> x == task, dependencies[k]))\n",
    "        end\n",
    "    end\n",
    "    return join(tasks)\n",
    "end"
   ]
  },
  {
   "cell_type": "code",
   "execution_count": 5,
   "metadata": {},
   "outputs": [
    {
     "data": {
      "text/plain": [
       "\"CABDFE\""
      ]
     },
     "execution_count": 5,
     "metadata": {},
     "output_type": "execute_result"
    }
   ],
   "source": [
    "schedule(parse_dependencies(test_input))"
   ]
  },
  {
   "cell_type": "code",
   "execution_count": 6,
   "metadata": {},
   "outputs": [
    {
     "name": "stdout",
     "output_type": "stream",
     "text": [
      "  0.000697 seconds (2.67 k allocations: 115.156 KiB)\n"
     ]
    },
    {
     "data": {
      "text/plain": [
       "\"JMQZELVYXTIGPHFNSOADKWBRUC\""
      ]
     },
     "execution_count": 6,
     "metadata": {},
     "output_type": "execute_result"
    }
   ],
   "source": [
    "@time schedule(parse_dependencies(input))"
   ]
  },
  {
   "cell_type": "code",
   "execution_count": 7,
   "metadata": {},
   "outputs": [
    {
     "data": {
      "text/plain": [
       "Worker"
      ]
     },
     "execution_count": 7,
     "metadata": {},
     "output_type": "execute_result"
    }
   ],
   "source": [
    "mutable struct Worker\n",
    "    free_at::Union{Int, Nothing}\n",
    "    task::Union{Char, Nothing}\n",
    "end\n",
    "\n",
    "Worker() = Worker(nothing, nothing)"
   ]
  },
  {
   "cell_type": "code",
   "execution_count": 8,
   "metadata": {},
   "outputs": [
    {
     "data": {
      "text/plain": [
       "get_task_time (generic function with 1 method)"
      ]
     },
     "execution_count": 8,
     "metadata": {},
     "output_type": "execute_result"
    }
   ],
   "source": [
    "get_task_time(task::Char, base_task_time) = base_task_time + Int(task) - 64  # Int('A') == 65 in ASCII table"
   ]
  },
  {
   "cell_type": "code",
   "execution_count": 9,
   "metadata": {},
   "outputs": [
    {
     "data": {
      "text/plain": [
       "get_free_workers (generic function with 1 method)"
      ]
     },
     "execution_count": 9,
     "metadata": {},
     "output_type": "execute_result"
    }
   ],
   "source": [
    "get_free_workers(workers, t) = filter((w) -> w.free_at == nothing, workers)"
   ]
  },
  {
   "cell_type": "code",
   "execution_count": 10,
   "metadata": {},
   "outputs": [
    {
     "data": {
      "text/plain": [
       "get_busy_workers (generic function with 1 method)"
      ]
     },
     "execution_count": 10,
     "metadata": {},
     "output_type": "execute_result"
    }
   ],
   "source": [
    "get_busy_workers(workers, t) = filter((w) -> w.free_at != nothing, workers)"
   ]
  },
  {
   "cell_type": "code",
   "execution_count": 11,
   "metadata": {},
   "outputs": [
    {
     "data": {
      "text/plain": [
       "get_tasks_in_progress (generic function with 1 method)"
      ]
     },
     "execution_count": 11,
     "metadata": {},
     "output_type": "execute_result"
    }
   ],
   "source": [
    "get_tasks_in_progress(workers, t) = [w.task for w in get_busy_workers(workers, t)]"
   ]
  },
  {
   "cell_type": "code",
   "execution_count": 12,
   "metadata": {},
   "outputs": [
    {
     "data": {
      "text/plain": [
       "get_doable_tasks (generic function with 1 method)"
      ]
     },
     "execution_count": 12,
     "metadata": {},
     "output_type": "execute_result"
    }
   ],
   "source": [
    "function get_doable_tasks(dependencies, workers, t; verbose=false) \n",
    "    doable = keys(filter((t) -> length(t.second) == 0, dependencies))\n",
    "    tasks_in_progress = get_tasks_in_progress(workers, t)\n",
    "    doable = collect(filter((t) -> !(t in tasks_in_progress), doable))\n",
    "    if verbose\n",
    "        println(\"Potentially doable: $doable\")\n",
    "        println(\"Tasks in progress: $tasks_in_progress\")\n",
    "        println(\"Actuall doable: $doable\")\n",
    "    end\n",
    "    return doable\n",
    "end"
   ]
  },
  {
   "cell_type": "code",
   "execution_count": 13,
   "metadata": {},
   "outputs": [
    {
     "data": {
      "text/plain": [
       "assign_task! (generic function with 1 method)"
      ]
     },
     "execution_count": 13,
     "metadata": {},
     "output_type": "execute_result"
    }
   ],
   "source": [
    "function assign_task!(worker, task, t, base_task_time; verbose=false) \n",
    "    if worker.free_at != nothing && worker.free_at > t\n",
    "        throw(\"Worker not free!\")\n",
    "    end\n",
    "    \n",
    "    worker.free_at = t + get_task_time(task, base_task_time)\n",
    "    worker.task = task\n",
    "    \n",
    "    !verbose ? nothing : println(\"Kicking off $task from $t to $(worker.free_at)\")\n",
    "end"
   ]
  },
  {
   "cell_type": "code",
   "execution_count": 14,
   "metadata": {},
   "outputs": [
    {
     "data": {
      "text/plain": [
       "complete_next_task! (generic function with 1 method)"
      ]
     },
     "execution_count": 14,
     "metadata": {},
     "output_type": "execute_result"
    }
   ],
   "source": [
    "function complete_next_task!(workers, t; verbose=false)\n",
    "    busy_workers = get_busy_workers(workers, t)\n",
    "    next_t = minimum([w.free_at for w in busy_workers])\n",
    "    !verbose ? nothing : println(\"We are at time $t and next completed task is at $next_t\")\n",
    "    if next_t <= t\n",
    "        throw(\"Oh Noes! We broke the space-time continuum, jumping from $t to $next_t\")\n",
    "    end\n",
    "    \n",
    "    completed_tasks = []\n",
    "    for worker in busy_workers  # several task may complete at the same time\n",
    "        if worker.free_at == next_t\n",
    "            worker.free_at = nothing\n",
    "            push!(completed_tasks, worker.task)\n",
    "        end\n",
    "    end\n",
    "    !verbose ? nothing : println(\"$(join(completed_tasks, ',')) is/are done at time $next_t\")\n",
    "    return (completed_tasks, next_t)\n",
    "    \n",
    "end"
   ]
  },
  {
   "cell_type": "code",
   "execution_count": 15,
   "metadata": {},
   "outputs": [
    {
     "data": {
      "text/plain": [
       "remove_task_from_graph! (generic function with 1 method)"
      ]
     },
     "execution_count": 15,
     "metadata": {},
     "output_type": "execute_result"
    }
   ],
   "source": [
    "function remove_task_from_graph!(dependencies, task)\n",
    "    delete!(dependencies, task)\n",
    "    for (k, b) in dependencies\n",
    "        deleteat!(dependencies[k], findall(x -> x == task, dependencies[k]))\n",
    "    end\n",
    "end"
   ]
  },
  {
   "cell_type": "code",
   "execution_count": 16,
   "metadata": {},
   "outputs": [
    {
     "data": {
      "text/plain": [
       "schedule_many (generic function with 1 method)"
      ]
     },
     "execution_count": 16,
     "metadata": {},
     "output_type": "execute_result"
    }
   ],
   "source": [
    "function schedule_many(dependencies, num_workers; base_task_time=60, verbose=false)\n",
    "    dependencies = copy(dependencies)\n",
    "    workers = [Worker() for i=1:num_workers]\n",
    "    t = 0\n",
    "    while true\n",
    "        \n",
    "        !verbose ? nothing : println(\"$(length(dependencies)) tasks left:\")\n",
    "        !verbose ? nothing : println(dependencies)\n",
    "\n",
    "        doable_tasks = get_doable_tasks(dependencies, workers, t, verbose=verbose) \n",
    "        num_doable_tasks = length(doable_tasks)\n",
    "\n",
    "        free_workers = get_free_workers(workers, t)\n",
    "        num_free_workers = length(free_workers)\n",
    "        \n",
    "        if num_doable_tasks == 0 && num_free_workers == num_workers\n",
    "            break\n",
    "        end\n",
    "        \n",
    "        \n",
    "        num_tasks = min(num_doable_tasks, num_free_workers)\n",
    "        todo = sort(collect(doable_tasks))[1:num_tasks]\n",
    "        towork = free_workers[1:num_tasks]\n",
    "        \n",
    "        for (task, worker) in zip(todo, towork)\n",
    "            assign_task!(worker, task, t, base_task_time; verbose=verbose)\n",
    "        end\n",
    "        \n",
    "        \n",
    "        completed_tasks, next_t = complete_next_task!(workers, t; verbose=verbose)\n",
    "        for task in completed_tasks\n",
    "            remove_task_from_graph!(dependencies, task)\n",
    "        end\n",
    "        t = next_t       \n",
    "        \n",
    "    end\n",
    "    \n",
    "    return t\n",
    "end"
   ]
  },
  {
   "cell_type": "code",
   "execution_count": 17,
   "metadata": {},
   "outputs": [
    {
     "name": "stdout",
     "output_type": "stream",
     "text": [
      "6 tasks left:\n",
      "Dict{Char,Array{Char,N} where N}('B'=>['A'],'D'=>['A'],'A'=>['C'],'E'=>['B', 'D', 'F'],'F'=>['C'],'C'=>[])\n",
      "Potentially doable: ['C']\n",
      "Tasks in progress: Union{Nothing, Char}[]\n",
      "Actuall doable: ['C']\n",
      "Kicking off C from 0 to 3\n",
      "We are at time 0 and next completed task is at 3\n",
      "C is/are done at time 3\n",
      "5 tasks left:\n",
      "Dict{Char,Array{Char,N} where N}('B'=>['A'],'D'=>['A'],'A'=>[],'E'=>['B', 'D', 'F'],'F'=>[])\n",
      "Potentially doable: ['A', 'F']\n",
      "Tasks in progress: Union{Nothing, Char}[]\n",
      "Actuall doable: ['A', 'F']\n",
      "Kicking off A from 3 to 4\n",
      "Kicking off F from 3 to 9\n",
      "We are at time 3 and next completed task is at 4\n",
      "A is/are done at time 4\n",
      "4 tasks left:\n",
      "Dict{Char,Array{Char,N} where N}('B'=>[],'D'=>[],'E'=>['B', 'D', 'F'],'F'=>[])\n",
      "Potentially doable: ['D', 'B']\n",
      "Tasks in progress: ['F']\n",
      "Actuall doable: ['D', 'B']\n",
      "Kicking off B from 4 to 6\n",
      "We are at time 4 and next completed task is at 6\n",
      "B is/are done at time 6\n",
      "3 tasks left:\n",
      "Dict{Char,Array{Char,N} where N}('D'=>[],'E'=>['D', 'F'],'F'=>[])\n",
      "Potentially doable: ['D']\n",
      "Tasks in progress: ['F']\n",
      "Actuall doable: ['D']\n",
      "Kicking off D from 6 to 10\n",
      "We are at time 6 and next completed task is at 9\n",
      "F is/are done at time 9\n",
      "2 tasks left:\n",
      "Dict{Char,Array{Char,N} where N}('D'=>[],'E'=>['D'])\n",
      "Potentially doable: Char[]\n",
      "Tasks in progress: ['D']\n",
      "Actuall doable: Char[]\n",
      "We are at time 9 and next completed task is at 10\n",
      "D is/are done at time 10\n",
      "1 tasks left:\n",
      "Dict{Char,Array{Char,N} where N}('E'=>[])\n",
      "Potentially doable: ['E']\n",
      "Tasks in progress: Union{Nothing, Char}[]\n",
      "Actuall doable: ['E']\n",
      "Kicking off E from 10 to 15\n",
      "We are at time 10 and next completed task is at 15\n",
      "E is/are done at time 15\n",
      "0 tasks left:\n",
      "Dict{Char,Array{Char,N} where N}()\n",
      "Potentially doable: Char[]\n",
      "Tasks in progress: Union{Nothing, Char}[]\n",
      "Actuall doable: Char[]\n"
     ]
    },
    {
     "data": {
      "text/plain": [
       "15"
      ]
     },
     "execution_count": 17,
     "metadata": {},
     "output_type": "execute_result"
    }
   ],
   "source": [
    "schedule_many(parse_dependencies(test_input), 2, base_task_time=0, verbose=true)"
   ]
  },
  {
   "cell_type": "code",
   "execution_count": 18,
   "metadata": {},
   "outputs": [
    {
     "name": "stdout",
     "output_type": "stream",
     "text": [
      "  0.000367 seconds (3.08 k allocations: 150.672 KiB)\n"
     ]
    },
    {
     "data": {
      "text/plain": [
       "1133"
      ]
     },
     "execution_count": 18,
     "metadata": {},
     "output_type": "execute_result"
    }
   ],
   "source": [
    "@time schedule_many(parse_dependencies(input), 5; base_task_time=60, verbose=false)"
   ]
  }
 ],
 "metadata": {
  "kernelspec": {
   "display_name": "Julia 1.0.0",
   "language": "julia",
   "name": "julia-1.0"
  },
  "language_info": {
   "file_extension": ".jl",
   "mimetype": "application/julia",
   "name": "julia",
   "version": "1.0.2"
  }
 },
 "nbformat": 4,
 "nbformat_minor": 2
}
