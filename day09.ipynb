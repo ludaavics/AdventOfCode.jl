{
 "cells": [
  {
   "cell_type": "code",
   "execution_count": 1,
   "metadata": {},
   "outputs": [
    {
     "data": {
      "text/plain": [
       "\"466 players; last marble is worth 71436 points\""
      ]
     },
     "execution_count": 1,
     "metadata": {},
     "output_type": "execute_result"
    }
   ],
   "source": [
    "input = \"466 players; last marble is worth 71436 points\""
   ]
  },
  {
   "cell_type": "code",
   "execution_count": 2,
   "metadata": {},
   "outputs": [
    {
     "data": {
      "text/plain": [
       "\"9 players; last marble is worth 25 points\""
      ]
     },
     "execution_count": 2,
     "metadata": {},
     "output_type": "execute_result"
    }
   ],
   "source": [
    "test_input = \"9 players; last marble is worth 25 points\""
   ]
  },
  {
   "cell_type": "code",
   "execution_count": 3,
   "metadata": {},
   "outputs": [
    {
     "data": {
      "text/plain": [
       "5-element Array{String,1}:\n",
       " \"10 players; last marble is worth 1618 points\"\n",
       " \"13 players; last marble is worth 7999 points\"\n",
       " \"17 players; last marble is worth 1104 points\"\n",
       " \"21 players; last marble is worth 6111 points\"\n",
       " \"30 players; last marble is worth 5807 points\""
      ]
     },
     "execution_count": 3,
     "metadata": {},
     "output_type": "execute_result"
    }
   ],
   "source": [
    "other_test_inputs = [\n",
    "    \"10 players; last marble is worth 1618 points\"\n",
    "    \"13 players; last marble is worth 7999 points\"\n",
    "    \"17 players; last marble is worth 1104 points\"\n",
    "    \"21 players; last marble is worth 6111 points\"\n",
    "    \"30 players; last marble is worth 5807 points\"\n",
    "]"
   ]
  },
  {
   "cell_type": "code",
   "execution_count": 4,
   "metadata": {},
   "outputs": [
    {
     "data": {
      "text/plain": [
       "parse_input (generic function with 1 method)"
      ]
     },
     "execution_count": 4,
     "metadata": {},
     "output_type": "execute_result"
    }
   ],
   "source": [
    "parse_input(input) = parse.(Int, match(r\"^(\\d+).*worth (\\d+) points$\", input).captures)"
   ]
  },
  {
   "cell_type": "code",
   "execution_count": 5,
   "metadata": {},
   "outputs": [
    {
     "data": {
      "text/plain": [
       "move_clockwise (generic function with 1 method)"
      ]
     },
     "execution_count": 5,
     "metadata": {},
     "output_type": "execute_result"
    }
   ],
   "source": [
    "move_clockwise(from, steps, circle_length) = mod((from + steps), circle_length)"
   ]
  },
  {
   "cell_type": "code",
   "execution_count": 6,
   "metadata": {},
   "outputs": [
    {
     "data": {
      "text/plain": [
       "move_counter_clockwise (generic function with 1 method)"
      ]
     },
     "execution_count": 6,
     "metadata": {},
     "output_type": "execute_result"
    }
   ],
   "source": [
    "move_counter_clockwise(from, steps, circle_length) = mod((from - steps), circle_length)"
   ]
  },
  {
   "cell_type": "code",
   "execution_count": 7,
   "metadata": {},
   "outputs": [
    {
     "data": {
      "text/plain": [
       "next_player (generic function with 1 method)"
      ]
     },
     "execution_count": 7,
     "metadata": {},
     "output_type": "execute_result"
    }
   ],
   "source": [
    "next_player(player, num_players) = (player) % (num_players) + 1"
   ]
  },
  {
   "cell_type": "code",
   "execution_count": 8,
   "metadata": {},
   "outputs": [
    {
     "data": {
      "text/plain": [
       "insert_marble! (generic function with 1 method)"
      ]
     },
     "execution_count": 8,
     "metadata": {},
     "output_type": "execute_result"
    }
   ],
   "source": [
    "insert_marble!(circle, value, position) = position == 0 ? push!(circle, value) : splice!(circle, position:position-1, value)"
   ]
  },
  {
   "cell_type": "code",
   "execution_count": 9,
   "metadata": {},
   "outputs": [
    {
     "data": {
      "text/plain": [
       "remove_marble! (generic function with 1 method)"
      ]
     },
     "execution_count": 9,
     "metadata": {},
     "output_type": "execute_result"
    }
   ],
   "source": [
    "remove_marble!(circle, position) = splice!(circle, position)"
   ]
  },
  {
   "cell_type": "code",
   "execution_count": 10,
   "metadata": {},
   "outputs": [
    {
     "data": {
      "text/plain": [
       "play_game (generic function with 2 methods)"
      ]
     },
     "execution_count": 10,
     "metadata": {},
     "output_type": "execute_result"
    }
   ],
   "source": [
    "function play_game(n_players, n_marbles; debug=false, info=false)\n",
    "    circle = [0]\n",
    "    position = 1\n",
    "    value = 1\n",
    "    scores = Dict{Int, Int}()\n",
    "    player = 1\n",
    "    while value <= n_marbles\n",
    "        \n",
    "        if value % 23 == 0\n",
    "            position = move_counter_clockwise(position, 7, length(circle))\n",
    "            removed = remove_marble!(circle, position)\n",
    "            scores[player] = get(scores, player, 0) + value + removed\n",
    "            !debug ? nothing : println(\"***Skipped marble $value, removed marble $removed, and set current to $(circle[position])***\")\n",
    "        else\n",
    "            position = move_clockwise(position, 2, length(circle) + 1)\n",
    "            insert_marble!(circle, value, position)\n",
    "            !debug ? nothing : println(\"Inserted marble $value in $circle, at position $position.\")\n",
    "        end\n",
    "\n",
    "        !debug ? nothing : println(\"Circle now has $(length(circle)) marbles:\\n$circle\\n\")\n",
    "        value += 1\n",
    "        player = next_player(player, n_players)\n",
    "    end\n",
    "    return scores\n",
    "end\n",
    "\n",
    "function play_game(input; debug=false)\n",
    "    n_players, n_marbles = parse_input(input)\n",
    "    return play_game(n_players, n_marbles, debug=debug)\n",
    "end"
   ]
  },
  {
   "cell_type": "code",
   "execution_count": 11,
   "metadata": {},
   "outputs": [
    {
     "data": {
      "text/plain": [
       "(32, 5)"
      ]
     },
     "execution_count": 11,
     "metadata": {},
     "output_type": "execute_result"
    }
   ],
   "source": [
    "scores = play_game(test_input)\n",
    "max_score, player = findmax(scores)"
   ]
  },
  {
   "cell_type": "code",
   "execution_count": 12,
   "metadata": {},
   "outputs": [
    {
     "name": "stdout",
     "output_type": "stream",
     "text": [
      "Max Score: 8317\n",
      "Max Score: 146373\n",
      "Max Score: 2764\n",
      "Max Score: 54718\n",
      "Max Score: 37305\n"
     ]
    }
   ],
   "source": [
    "for ti in other_test_inputs\n",
    "    scores = play_game(ti)\n",
    "    max_score, player = findmax(scores)\n",
    "    println(\"Max Score: $max_score\")\n",
    "end"
   ]
  },
  {
   "cell_type": "code",
   "execution_count": 13,
   "metadata": {
    "scrolled": false
   },
   "outputs": [
    {
     "name": "stdout",
     "output_type": "stream",
     "text": [
      "  0.191239 seconds (75.69 k allocations: 6.610 MiB)\n"
     ]
    },
    {
     "data": {
      "text/plain": [
       "(382055, 94)"
      ]
     },
     "execution_count": 13,
     "metadata": {},
     "output_type": "execute_result"
    }
   ],
   "source": [
    "@time scores = play_game(input, debug=false)\n",
    "max_score, player = findmax(scores)"
   ]
  },
  {
   "cell_type": "code",
   "execution_count": 14,
   "metadata": {},
   "outputs": [],
   "source": [
    "mutable struct Marble\n",
    "    value::Int\n",
    "    previous::Marble\n",
    "    next::Marble\n",
    "    Marble(value) = (x = new(value); x.previous = x; x.next = x)\n",
    "    Marble(value, previous, next) = new(value, previous, next)\n",
    "end"
   ]
  },
  {
   "cell_type": "code",
   "execution_count": 15,
   "metadata": {},
   "outputs": [
    {
     "data": {
      "text/plain": [
       "move_clockwise (generic function with 2 methods)"
      ]
     },
     "execution_count": 15,
     "metadata": {},
     "output_type": "execute_result"
    }
   ],
   "source": [
    "move_clockwise(marble::Marble, steps::Int) = steps == 0 ? marble : move_clockwise(marble.next, steps - 1)"
   ]
  },
  {
   "cell_type": "code",
   "execution_count": 16,
   "metadata": {},
   "outputs": [
    {
     "data": {
      "text/plain": [
       "move_counter_clockwise (generic function with 2 methods)"
      ]
     },
     "execution_count": 16,
     "metadata": {},
     "output_type": "execute_result"
    }
   ],
   "source": [
    "move_counter_clockwise(marble::Marble, steps::Int) = steps == 0 ? marble : move_counter_clockwise(marble.previous, steps - 1)"
   ]
  },
  {
   "cell_type": "code",
   "execution_count": 17,
   "metadata": {},
   "outputs": [
    {
     "data": {
      "text/plain": [
       "insert_marble_before! (generic function with 1 method)"
      ]
     },
     "execution_count": 17,
     "metadata": {},
     "output_type": "execute_result"
    }
   ],
   "source": [
    "function insert_marble_before!(marble::Marble, value::Int)\n",
    "    new_marble = Marble(value, marble.previous, marble)\n",
    "    marble.previous.next = new_marble\n",
    "    marble.previous = new_marble\n",
    "    return new_marble\n",
    "end"
   ]
  },
  {
   "cell_type": "code",
   "execution_count": 18,
   "metadata": {},
   "outputs": [
    {
     "data": {
      "text/plain": [
       "remove_marble! (generic function with 2 methods)"
      ]
     },
     "execution_count": 18,
     "metadata": {},
     "output_type": "execute_result"
    }
   ],
   "source": [
    "function remove_marble!(marble::Marble)\n",
    "    parent = marble.previous\n",
    "    child = marble.next\n",
    "    parent.next = child\n",
    "    child.previous = parent\n",
    "    return child\n",
    "end"
   ]
  },
  {
   "cell_type": "code",
   "execution_count": 19,
   "metadata": {},
   "outputs": [
    {
     "data": {
      "text/plain": [
       "show_circle (generic function with 1 method)"
      ]
     },
     "execution_count": 19,
     "metadata": {},
     "output_type": "execute_result"
    }
   ],
   "source": [
    "function show_circle(marble)\n",
    "    start = marble.value\n",
    "    circle = [start]\n",
    "    marble = marble.next\n",
    "    while marble.value != start\n",
    "        push!(circle, marble.value)\n",
    "        marble = marble.next\n",
    "    end\n",
    "    return circle\n",
    "end"
   ]
  },
  {
   "cell_type": "code",
   "execution_count": 20,
   "metadata": {},
   "outputs": [
    {
     "data": {
      "text/plain": [
       "play_game_v2 (generic function with 2 methods)"
      ]
     },
     "execution_count": 20,
     "metadata": {},
     "output_type": "execute_result"
    }
   ],
   "source": [
    "function play_game_v2(n_players, n_marbles; debug=false, info=false)\n",
    "    current = Marble(0)\n",
    "    root = current\n",
    "\n",
    "    scores = Dict{Int, Int}()\n",
    "    value = 1\n",
    "    player = 1\n",
    "    while value <= n_marbles\n",
    "    \n",
    "        if value % 23 == 0\n",
    "            removed = move_counter_clockwise(current, 7)\n",
    "            current = remove_marble!(removed)\n",
    "            scores[player] = get(scores, player, 0) + value + removed.value\n",
    "            !debug ? nothing : println(\"***Skipped marble $value, removed marble $(removed.value), and set current to $(current.value)***\")\n",
    "        else\n",
    "            mb = move_clockwise(current, 2)\n",
    "            current = insert_marble_before!(mb, value)\n",
    "            !debug ? nothing : println(\"Inserted marble $value just before $(mb.value).\")\n",
    "        end\n",
    "\n",
    "        if debug\n",
    "            circle = show_circle(root)\n",
    "            println(\"Circle now has $(length(circle)) marbles:\\n$circle\\n\")\n",
    "        end\n",
    "        value += 1\n",
    "        player = next_player(player, n_players)\n",
    "    end\n",
    "    return scores\n",
    "end\n",
    "\n",
    "function play_game_v2(input; debug=false)\n",
    "    n_players, n_marbles = parse_input(input)\n",
    "    return play_game_v2(n_players, n_marbles, debug=debug)\n",
    "end"
   ]
  },
  {
   "cell_type": "code",
   "execution_count": 21,
   "metadata": {},
   "outputs": [
    {
     "data": {
      "text/plain": [
       "(32, 5)"
      ]
     },
     "execution_count": 21,
     "metadata": {},
     "output_type": "execute_result"
    }
   ],
   "source": [
    "scores = play_game_v2(test_input; debug=false)\n",
    "max_score, player = findmax(scores)"
   ]
  },
  {
   "cell_type": "code",
   "execution_count": 22,
   "metadata": {},
   "outputs": [
    {
     "name": "stdout",
     "output_type": "stream",
     "text": [
      "Max Score: 8317\n",
      "Max Score: 146373\n",
      "Max Score: 2764\n",
      "Max Score: 54718\n",
      "Max Score: 37305\n"
     ]
    }
   ],
   "source": [
    "for ti in other_test_inputs\n",
    "    scores = play_game_v2(ti)\n",
    "    max_score, player = findmax(scores)\n",
    "    println(\"Max Score: $max_score\")\n",
    "end"
   ]
  },
  {
   "cell_type": "code",
   "execution_count": 23,
   "metadata": {},
   "outputs": [
    {
     "name": "stdout",
     "output_type": "stream",
     "text": [
      "  0.003114 seconds (68.37 k allocations: 2.110 MiB)\n"
     ]
    },
    {
     "data": {
      "text/plain": [
       "(382055, 94)"
      ]
     },
     "execution_count": 23,
     "metadata": {},
     "output_type": "execute_result"
    }
   ],
   "source": [
    "@time scores = play_game_v2(input, debug=false)  # compare speed to v1\n",
    "max_score, player = findmax(scores)"
   ]
  },
  {
   "cell_type": "code",
   "execution_count": 24,
   "metadata": {},
   "outputs": [
    {
     "name": "stdout",
     "output_type": "stream",
     "text": [
      "  1.361772 seconds (6.83 M allocations: 208.555 MiB, 68.74% gc time)\n"
     ]
    },
    {
     "data": {
      "text/plain": [
       "(3133277384, 9)"
      ]
     },
     "execution_count": 24,
     "metadata": {},
     "output_type": "execute_result"
    }
   ],
   "source": [
    "n_players, n_marbles = parse_input(input)\n",
    "@time scores = play_game_v2(n_players, n_marbles * 100, debug=false)\n",
    "max_score, player = findmax(scores)"
   ]
  }
 ],
 "metadata": {
  "kernelspec": {
   "display_name": "Julia 1.0.0",
   "language": "julia",
   "name": "julia-1.0"
  },
  "language_info": {
   "file_extension": ".jl",
   "mimetype": "application/julia",
   "name": "julia",
   "version": "1.0.2"
  }
 },
 "nbformat": 4,
 "nbformat_minor": 2
}
